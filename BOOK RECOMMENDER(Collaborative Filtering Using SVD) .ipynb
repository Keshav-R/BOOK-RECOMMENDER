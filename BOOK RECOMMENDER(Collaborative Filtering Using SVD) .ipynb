{
 "cells": [
  {
   "cell_type": "markdown",
   "metadata": {},
   "source": [
    "## DOWNLOAD AND IMPORT LIBRARIES"
   ]
  },
  {
   "cell_type": "code",
   "execution_count": 2,
   "metadata": {
    "colab": {
     "base_uri": "https://localhost:8080/",
     "height": 252
    },
    "colab_type": "code",
    "id": "HNmYMKhCnITm",
    "outputId": "9897054c-43a8-4add-ecc2-72caf4da5271",
    "scrolled": true
   },
   "outputs": [
    {
     "name": "stdout",
     "output_type": "stream",
     "text": [
      "Requirement already satisfied: pandas in c:\\users\\keshav\\anaconda3\\lib\\site-packages (1.0.5)\n",
      "Requirement already satisfied: matplotlib in c:\\users\\keshav\\anaconda3\\lib\\site-packages (3.2.2)\n",
      "Requirement already satisfied: numpy in c:\\users\\keshav\\anaconda3\\lib\\site-packages (1.18.5)\n",
      "Requirement already satisfied: scikit-surprise in c:\\users\\keshav\\anaconda3\\lib\\site-packages (1.1.1)\n",
      "Requirement already satisfied: pytz>=2017.2 in c:\\users\\keshav\\anaconda3\\lib\\site-packages (from pandas) (2020.1)\n",
      "Requirement already satisfied: python-dateutil>=2.6.1 in c:\\users\\keshav\\anaconda3\\lib\\site-packages (from pandas) (2.8.1)\n",
      "Requirement already satisfied: pyparsing!=2.0.4,!=2.1.2,!=2.1.6,>=2.0.1 in c:\\users\\keshav\\anaconda3\\lib\\site-packages (from matplotlib) (2.4.7)\n",
      "Requirement already satisfied: kiwisolver>=1.0.1 in c:\\users\\keshav\\anaconda3\\lib\\site-packages (from matplotlib) (1.2.0)\n",
      "Requirement already satisfied: cycler>=0.10 in c:\\users\\keshav\\anaconda3\\lib\\site-packages (from matplotlib) (0.10.0)\n",
      "Requirement already satisfied: scipy>=1.0.0 in c:\\users\\keshav\\anaconda3\\lib\\site-packages (from scikit-surprise) (1.4.1)\n",
      "Requirement already satisfied: six>=1.10.0 in c:\\users\\keshav\\anaconda3\\lib\\site-packages (from scikit-surprise) (1.15.0)\n",
      "Requirement already satisfied: joblib>=0.11 in c:\\users\\keshav\\anaconda3\\lib\\site-packages (from scikit-surprise) (0.16.0)\n",
      "\n",
      "\n",
      "\n",
      ">> Libraries Installed\n"
     ]
    }
   ],
   "source": [
    "\n",
    "\n",
    "!pip3 install pandas matplotlib numpy scikit-surprise numpy\n",
    "\n",
    "print('\\n\\n\\n>> Libraries Installed')"
   ]
  },
  {
   "cell_type": "code",
   "execution_count": 3,
   "metadata": {
    "colab": {
     "base_uri": "https://localhost:8080/",
     "height": 50
    },
    "colab_type": "code",
    "id": "5OGYBAjxAzLC",
    "outputId": "54fde954-4f5c-421b-d6e2-341ef13b6fa8"
   },
   "outputs": [
    {
     "name": "stdout",
     "output_type": "stream",
     "text": [
      ">> Libraries imported.\n"
     ]
    }
   ],
   "source": [
    "import pandas as pd\n",
    "import numpy as np\n",
    "\n",
    "from surprise import Reader, Dataset, SVD\n",
    "\n",
    "from surprise.accuracy import rmse, mae\n",
    "from surprise.model_selection import cross_validate\n",
    "\n",
    "print('>> Libraries imported.')"
   ]
  },
  {
   "cell_type": "markdown",
   "metadata": {},
   "source": [
    "## DATA CLEANING\n",
    "\n",
    "DATASET FROM: https://www.kaggle.com/zygmunt/goodbooks-10k"
   ]
  },
  {
   "cell_type": "code",
   "execution_count": 4,
   "metadata": {},
   "outputs": [
    {
     "data": {
      "text/html": [
       "<div>\n",
       "<style scoped>\n",
       "    .dataframe tbody tr th:only-of-type {\n",
       "        vertical-align: middle;\n",
       "    }\n",
       "\n",
       "    .dataframe tbody tr th {\n",
       "        vertical-align: top;\n",
       "    }\n",
       "\n",
       "    .dataframe thead th {\n",
       "        text-align: right;\n",
       "    }\n",
       "</style>\n",
       "<table border=\"1\" class=\"dataframe\">\n",
       "  <thead>\n",
       "    <tr style=\"text-align: right;\">\n",
       "      <th></th>\n",
       "      <th>book_id</th>\n",
       "      <th>original_title</th>\n",
       "    </tr>\n",
       "  </thead>\n",
       "  <tbody>\n",
       "    <tr>\n",
       "      <th>26</th>\n",
       "      <td>1</td>\n",
       "      <td>Harry Potter and the Half-Blood Prince</td>\n",
       "    </tr>\n",
       "    <tr>\n",
       "      <th>20</th>\n",
       "      <td>2</td>\n",
       "      <td>Harry Potter and the Order of the Phoenix</td>\n",
       "    </tr>\n",
       "    <tr>\n",
       "      <th>1</th>\n",
       "      <td>3</td>\n",
       "      <td>Harry Potter and the Philosopher's Stone</td>\n",
       "    </tr>\n",
       "    <tr>\n",
       "      <th>17</th>\n",
       "      <td>5</td>\n",
       "      <td>Harry Potter and the Prisoner of Azkaban</td>\n",
       "    </tr>\n",
       "    <tr>\n",
       "      <th>23</th>\n",
       "      <td>6</td>\n",
       "      <td>Harry Potter and the Goblet of Fire</td>\n",
       "    </tr>\n",
       "  </tbody>\n",
       "</table>\n",
       "</div>"
      ],
      "text/plain": [
       "    book_id                             original_title\n",
       "26        1     Harry Potter and the Half-Blood Prince\n",
       "20        2  Harry Potter and the Order of the Phoenix\n",
       "1         3   Harry Potter and the Philosopher's Stone\n",
       "17        5   Harry Potter and the Prisoner of Azkaban\n",
       "23        6        Harry Potter and the Goblet of Fire"
      ]
     },
     "execution_count": 4,
     "metadata": {},
     "output_type": "execute_result"
    }
   ],
   "source": [
    "booksdf= pd.read_csv('books.csv')\n",
    "\n",
    "booksdf.drop(['id', 'best_book_id', 'work_id', 'books_count', 'isbn',\n",
    "       'isbn13', 'authors', 'original_publication_year', \n",
    "       'title', 'language_code', 'average_rating', 'ratings_count',\n",
    "       'work_ratings_count', 'work_text_reviews_count', 'ratings_1',\n",
    "       'ratings_2', 'ratings_3', 'ratings_4', 'ratings_5', 'image_url',\n",
    "       'small_image_url'], axis=1, inplace=True)\n",
    "booksdf = booksdf.sort_values([\"book_id\"])\n",
    "booksdf.head()"
   ]
  },
  {
   "cell_type": "code",
   "execution_count": 5,
   "metadata": {
    "colab": {
     "base_uri": "https://localhost:8080/",
     "height": 195
    },
    "colab_type": "code",
    "id": "3lbOmdPwKsPm",
    "outputId": "e525b379-82b1-4820-cdf5-e5c903cde1aa"
   },
   "outputs": [
    {
     "name": "stdout",
     "output_type": "stream",
     "text": [
      "(79701, 3)\n"
     ]
    }
   ],
   "source": [
    "df1 = pd.read_csv (\"ratings.csv\")\n",
    "columns_titles = ['user_id', 'book_id', 'rating']\n",
    "df1=df1.reindex(columns=columns_titles)\n",
    "df1.head()\n",
    "df = pd.merge(df1,booksdf)\n",
    "df.drop('original_title', axis=1, inplace= True)\n",
    "print(df.shape)\n",
    "df = df.sort_values('user_id', ascending = True)\n"
   ]
  },
  {
   "cell_type": "markdown",
   "metadata": {},
   "source": [
    "## INFORMATION ABOUT RAW DATA"
   ]
  },
  {
   "cell_type": "code",
   "execution_count": 6,
   "metadata": {
    "colab": {
     "base_uri": "https://localhost:8080/",
     "height": 84
    },
    "colab_type": "code",
    "id": "BfBqk7KkLFV6",
    "outputId": "94f9c7f7-6f9f-4ab5-9c08-0548e96b29ce"
   },
   "outputs": [
    {
     "data": {
      "text/plain": [
       "user_id    0\n",
       "book_id    0\n",
       "rating     0\n",
       "dtype: int64"
      ]
     },
     "execution_count": 6,
     "metadata": {},
     "output_type": "execute_result"
    }
   ],
   "source": [
    "df.isna().sum()"
   ]
  },
  {
   "cell_type": "code",
   "execution_count": 7,
   "metadata": {
    "colab": {
     "base_uri": "https://localhost:8080/",
     "height": 50
    },
    "colab_type": "code",
    "id": "vnEIeAO6Psj2",
    "outputId": "1a125e7d-588c-4a40-bddd-72cce464cfbb"
   },
   "outputs": [
    {
     "name": "stdout",
     "output_type": "stream",
     "text": [
      "812\n",
      "28906\n"
     ]
    }
   ],
   "source": [
    "n_movies = df[\"book_id\"].nunique() \n",
    "n_users = df[\"user_id\"].nunique() \n",
    "\n",
    "print(n_movies)\n",
    "print(n_users)"
   ]
  },
  {
   "cell_type": "code",
   "execution_count": 8,
   "metadata": {
    "colab": {
     "base_uri": "https://localhost:8080/",
     "height": 50
    },
    "colab_type": "code",
    "id": "xPYF0zlfREMK",
    "outputId": "736f8d3b-44e0-40c6-9649-6ee326566c35"
   },
   "outputs": [
    {
     "name": "stdout",
     "output_type": "stream",
     "text": [
      "Sparsity in Rating: 99.66043748395938\n"
     ]
    }
   ],
   "source": [
    "av = df['rating'].count()\n",
    "tot = n_movies * n_users\n",
    "miss = tot - av\n",
    "sp = (miss/tot)*100\n",
    "print(f'Sparsity in Rating: {sp}')"
   ]
  },
  {
   "cell_type": "code",
   "execution_count": 9,
   "metadata": {
    "colab": {
     "base_uri": "https://localhost:8080/",
     "height": 288
    },
    "colab_type": "code",
    "id": "ZO7Mv-jdL4_z",
    "outputId": "10fe8037-c46a-4c2c-d362-1042f052cbca",
    "scrolled": true
   },
   "outputs": [
    {
     "data": {
      "text/plain": [
       "<matplotlib.axes._subplots.AxesSubplot at 0x2cda438ec10>"
      ]
     },
     "execution_count": 9,
     "metadata": {},
     "output_type": "execute_result"
    },
    {
     "data": {
      "image/png": "[encoded data removed]",
      "text/plain": [
       "<Figure size 432x288 with 1 Axes>"
      ]
     },
     "metadata": {
      "needs_background": "light"
     },
     "output_type": "display_data"
    }
   ],
   "source": [
    "df['rating'].value_counts().plot(kind='bar')"
   ]
  },
  {
   "cell_type": "markdown",
   "metadata": {},
   "source": [
    "## FILTERING RARE DATA"
   ]
  },
  {
   "cell_type": "code",
   "execution_count": 10,
   "metadata": {
    "colab": {
     "base_uri": "https://localhost:8080/",
     "height": 50
    },
    "colab_type": "code",
    "id": "tTUG4ao6S_x7",
    "outputId": "0d080569-959b-4796-eaaf-9a08a83aebff"
   },
   "outputs": [
    {
     "name": "stdout",
     "output_type": "stream",
     "text": [
      "(79701, 3)\n",
      "(44830, 3)\n"
     ]
    }
   ],
   "source": [
    "min_ratings = 3\n",
    "filter_movies = df['book_id'].value_counts() > min_ratings\n",
    "filter_movies = filter_movies[filter_movies].index.tolist()\n",
    "\n",
    "min_user_ratings = 3\n",
    "filter_users = df['user_id'].value_counts() > min_user_ratings\n",
    "filter_users = filter_users[filter_users].index.tolist()\n",
    "\n",
    "print(df.shape)\n",
    "df = df[(df['book_id'].isin(filter_movies)) & (df['user_id'].isin(filter_users))]\n",
    "print(df.shape)"
   ]
  },
  {
   "cell_type": "markdown",
   "metadata": {},
   "source": [
    "## BUILDING TESTSET AND ANTISET"
   ]
  },
  {
   "cell_type": "code",
   "execution_count": 11,
   "metadata": {
    "colab": {},
    "colab_type": "code",
    "id": "heITVvtvU1FD"
   },
   "outputs": [],
   "source": [
    "cols = ['user_id', 'book_id', 'rating']\n",
    "reader = Reader(rating_scale=(0, 5))\n",
    "data = Dataset.load_from_df(df[cols], reader)\n",
    "t_s = data.build_full_trainset()\n",
    "a_s = t_s.build_anti_testset()"
   ]
  },
  {
   "cell_type": "markdown",
   "metadata": {},
   "source": [
    "## TRAINING THE MODEL"
   ]
  },
  {
   "cell_type": "code",
   "execution_count": 12,
   "metadata": {
    "colab": {
     "base_uri": "https://localhost:8080/",
     "height": 1000
    },
    "colab_type": "code",
    "id": "nh-E5DS5wYe_",
    "outputId": "9dccb553-93af-4b24-c180-f85905ef4245"
   },
   "outputs": [
    {
     "name": "stdout",
     "output_type": "stream",
     "text": [
      "Processing epoch 0\n",
      "Processing epoch 1\n",
      "Processing epoch 2\n",
      "Processing epoch 3\n",
      "Processing epoch 4\n",
      "Processing epoch 5\n",
      "Processing epoch 6\n",
      "Processing epoch 7\n",
      "Processing epoch 8\n",
      "Processing epoch 9\n",
      "Processing epoch 10\n",
      "Processing epoch 11\n",
      "Processing epoch 12\n",
      "Processing epoch 13\n",
      "Processing epoch 14\n",
      "Processing epoch 15\n",
      "Processing epoch 16\n",
      "Processing epoch 17\n",
      "Processing epoch 18\n",
      "Processing epoch 19\n",
      "Processing epoch 20\n",
      "Processing epoch 21\n",
      "Processing epoch 22\n",
      "Processing epoch 23\n",
      "Processing epoch 24\n",
      "Processing epoch 0\n",
      "Processing epoch 1\n",
      "Processing epoch 2\n",
      "Processing epoch 3\n",
      "Processing epoch 4\n",
      "Processing epoch 5\n",
      "Processing epoch 6\n",
      "Processing epoch 7\n",
      "Processing epoch 8\n",
      "Processing epoch 9\n",
      "Processing epoch 10\n",
      "Processing epoch 11\n",
      "Processing epoch 12\n",
      "Processing epoch 13\n",
      "Processing epoch 14\n",
      "Processing epoch 15\n",
      "Processing epoch 16\n",
      "Processing epoch 17\n",
      "Processing epoch 18\n",
      "Processing epoch 19\n",
      "Processing epoch 20\n",
      "Processing epoch 21\n",
      "Processing epoch 22\n",
      "Processing epoch 23\n",
      "Processing epoch 24\n",
      "Processing epoch 0\n",
      "Processing epoch 1\n",
      "Processing epoch 2\n",
      "Processing epoch 3\n",
      "Processing epoch 4\n",
      "Processing epoch 5\n",
      "Processing epoch 6\n",
      "Processing epoch 7\n",
      "Processing epoch 8\n",
      "Processing epoch 9\n",
      "Processing epoch 10\n",
      "Processing epoch 11\n",
      "Processing epoch 12\n",
      "Processing epoch 13\n",
      "Processing epoch 14\n",
      "Processing epoch 15\n",
      "Processing epoch 16\n",
      "Processing epoch 17\n",
      "Processing epoch 18\n",
      "Processing epoch 19\n",
      "Processing epoch 20\n",
      "Processing epoch 21\n",
      "Processing epoch 22\n",
      "Processing epoch 23\n",
      "Processing epoch 24\n",
      "Processing epoch 0\n",
      "Processing epoch 1\n",
      "Processing epoch 2\n",
      "Processing epoch 3\n",
      "Processing epoch 4\n",
      "Processing epoch 5\n",
      "Processing epoch 6\n",
      "Processing epoch 7\n",
      "Processing epoch 8\n",
      "Processing epoch 9\n",
      "Processing epoch 10\n",
      "Processing epoch 11\n",
      "Processing epoch 12\n",
      "Processing epoch 13\n",
      "Processing epoch 14\n",
      "Processing epoch 15\n",
      "Processing epoch 16\n",
      "Processing epoch 17\n",
      "Processing epoch 18\n",
      "Processing epoch 19\n",
      "Processing epoch 20\n",
      "Processing epoch 21\n",
      "Processing epoch 22\n",
      "Processing epoch 23\n",
      "Processing epoch 24\n",
      "Processing epoch 0\n",
      "Processing epoch 1\n",
      "Processing epoch 2\n",
      "Processing epoch 3\n",
      "Processing epoch 4\n",
      "Processing epoch 5\n",
      "Processing epoch 6\n",
      "Processing epoch 7\n",
      "Processing epoch 8\n",
      "Processing epoch 9\n",
      "Processing epoch 10\n",
      "Processing epoch 11\n",
      "Processing epoch 12\n",
      "Processing epoch 13\n",
      "Processing epoch 14\n",
      "Processing epoch 15\n",
      "Processing epoch 16\n",
      "Processing epoch 17\n",
      "Processing epoch 18\n",
      "Processing epoch 19\n",
      "Processing epoch 20\n",
      "Processing epoch 21\n",
      "Processing epoch 22\n",
      "Processing epoch 23\n",
      "Processing epoch 24\n",
      "Evaluating RMSE of algorithm SVD on 5 split(s).\n",
      "\n",
      "                  Fold 1  Fold 2  Fold 3  Fold 4  Fold 5  Mean    Std     \n",
      "RMSE (testset)    0.9287  0.9344  0.9259  0.9147  0.9351  0.9277  0.0074  \n",
      "RMSE (trainset)   0.8506  0.8495  0.8510  0.8530  0.8492  0.8507  0.0014  \n",
      "Fit time          2.64    2.62    2.60    2.61    2.92    2.68    0.12    \n",
      "Test time         0.08    0.08    0.07    0.07    0.06    0.07    0.01    \n"
     ]
    },
    {
     "data": {
      "text/plain": [
       "{'test_rmse': array([0.92867613, 0.93439218, 0.92587314, 0.91470902, 0.93506852]),\n",
       " 'train_rmse': array([0.85064088, 0.84948969, 0.85103064, 0.85301811, 0.84915671]),\n",
       " 'fit_time': (2.636476755142212,\n",
       "  2.618694543838501,\n",
       "  2.600537061691284,\n",
       "  2.609074115753174,\n",
       "  2.9200947284698486),\n",
       " 'test_time': (0.07593107223510742,\n",
       "  0.08388972282409668,\n",
       "  0.06790781021118164,\n",
       "  0.06790924072265625,\n",
       "  0.06394720077514648)}"
      ]
     },
     "execution_count": 12,
     "metadata": {},
     "output_type": "execute_result"
    }
   ],
   "source": [
    "algo = SVD(n_epochs = 25 ,biased=True, verbose=True,lr_pu=0.001, lr_qi=0.001, lr_bu=0.001, lr_bi=0.001)\n",
    "cross_validate(algo, data, measures=['RMSE'], cv=5, verbose = True, return_train_measures=True)"
   ]
  },
  {
   "cell_type": "code",
   "execution_count": 13,
   "metadata": {
    "colab": {},
    "colab_type": "code",
    "id": "_K3EmIs3wxhW"
   },
   "outputs": [],
   "source": [
    "predictions = algo.test(a_s)"
   ]
  },
  {
   "cell_type": "markdown",
   "metadata": {},
   "source": [
    "## COMPLETE ANTISET OF PREDICTIONS:"
   ]
  },
  {
   "cell_type": "code",
   "execution_count": 14,
   "metadata": {
    "colab": {
     "base_uri": "https://localhost:8080/",
     "height": 34
    },
    "colab_type": "code",
    "id": "RkqiEwM9z4Jf",
    "outputId": "e58e8df5-17e0-428b-8256-732fed73c65d",
    "scrolled": true
   },
   "outputs": [
    {
     "data": {
      "text/html": [
       "<div>\n",
       "<style scoped>\n",
       "    .dataframe tbody tr th:only-of-type {\n",
       "        vertical-align: middle;\n",
       "    }\n",
       "\n",
       "    .dataframe tbody tr th {\n",
       "        vertical-align: top;\n",
       "    }\n",
       "\n",
       "    .dataframe thead th {\n",
       "        text-align: right;\n",
       "    }\n",
       "</style>\n",
       "<table border=\"1\" class=\"dataframe\">\n",
       "  <thead>\n",
       "    <tr style=\"text-align: right;\">\n",
       "      <th></th>\n",
       "      <th>user_id</th>\n",
       "      <th>book_id</th>\n",
       "      <th>rating(predicted)</th>\n",
       "    </tr>\n",
       "  </thead>\n",
       "  <tbody>\n",
       "    <tr>\n",
       "      <th>0</th>\n",
       "      <td>7</td>\n",
       "      <td>9516</td>\n",
       "      <td>4.0</td>\n",
       "    </tr>\n",
       "    <tr>\n",
       "      <th>531</th>\n",
       "      <td>7</td>\n",
       "      <td>4076</td>\n",
       "      <td>4.0</td>\n",
       "    </tr>\n",
       "    <tr>\n",
       "      <th>532</th>\n",
       "      <td>7</td>\n",
       "      <td>4006</td>\n",
       "      <td>4.0</td>\n",
       "    </tr>\n",
       "    <tr>\n",
       "      <th>533</th>\n",
       "      <td>7</td>\n",
       "      <td>8695</td>\n",
       "      <td>4.0</td>\n",
       "    </tr>\n",
       "    <tr>\n",
       "      <th>534</th>\n",
       "      <td>7</td>\n",
       "      <td>9799</td>\n",
       "      <td>4.0</td>\n",
       "    </tr>\n",
       "  </tbody>\n",
       "</table>\n",
       "</div>"
      ],
      "text/plain": [
       "     user_id  book_id  rating(predicted)\n",
       "0          7     9516                4.0\n",
       "531        7     4076                4.0\n",
       "532        7     4006                4.0\n",
       "533        7     8695                4.0\n",
       "534        7     9799                4.0"
      ]
     },
     "execution_count": 14,
     "metadata": {},
     "output_type": "execute_result"
    }
   ],
   "source": [
    "def round_of_rating(number):\n",
    "        return round(2*number)/2\n",
    "df = pd.DataFrame(predictions)\n",
    "df.drop('r_ui', axis=1, inplace=True)\n",
    "df.drop('details', axis=1, inplace=True)\n",
    "df['est']= df['est'].apply(round_of_rating )\n",
    "df.rename(columns = {'uid': 'user_id', 'iid':'book_id', 'est': 'rating(predicted)'}, inplace = True)\n",
    "df = df.sort_values('user_id', ascending = True)\n",
    "df.head()"
   ]
  },
  {
   "cell_type": "code",
   "execution_count": 20,
   "metadata": {},
   "outputs": [],
   "source": [
    "to_complete = pd.read_csv('to_read.csv')\n",
    "to_complete['ratings']=df['rating(predicted)']\n",
    "to_complete.to_csv('To_read_predictions.csv')\n",
    "to_complete.head()"
   ]
  },
  {
   "cell_type": "markdown",
   "metadata": {
    "colab_type": "text",
    "id": "lRmzGn63ze8b"
   },
   "source": [
    "# IMPROVEMENT: Recommending top n=3 books based on predictions, of all users"
   ]
  },
  {
   "cell_type": "code",
   "execution_count": 16,
   "metadata": {},
   "outputs": [],
   "source": [
    "from collections import defaultdict\n",
    "def get_top_n(predictions, n):\n",
    "    top_n = defaultdict(list)\n",
    "    for uid, iid, true_r, est, _ in predictions:\n",
    "        top_n[uid].append((iid, est))\n",
    "\n",
    "   \n",
    "    for uid, user_ratings in top_n.items():\n",
    "        user_ratings.sort(key=lambda x: x[1], reverse=True)\n",
    "        top_n[uid] = user_ratings[:n]\n",
    "\n",
    "    return top_n\n",
    "top_n = get_top_n(predictions, n=3)"
   ]
  },
  {
   "cell_type": "code",
   "execution_count": 17,
   "metadata": {
    "scrolled": true
   },
   "outputs": [
    {
     "data": {
      "text/html": [
       "<div>\n",
       "<style scoped>\n",
       "    .dataframe tbody tr th:only-of-type {\n",
       "        vertical-align: middle;\n",
       "    }\n",
       "\n",
       "    .dataframe tbody tr th {\n",
       "        vertical-align: top;\n",
       "    }\n",
       "\n",
       "    .dataframe thead th {\n",
       "        text-align: right;\n",
       "    }\n",
       "</style>\n",
       "<table border=\"1\" class=\"dataframe\">\n",
       "  <thead>\n",
       "    <tr style=\"text-align: right;\">\n",
       "      <th></th>\n",
       "      <th>UserId</th>\n",
       "      <th>Rec1</th>\n",
       "      <th>Rec2</th>\n",
       "      <th>Rec3</th>\n",
       "    </tr>\n",
       "  </thead>\n",
       "  <tbody>\n",
       "    <tr>\n",
       "      <th>0</th>\n",
       "      <td>7</td>\n",
       "      <td>6462</td>\n",
       "      <td>1274</td>\n",
       "      <td>1618</td>\n",
       "    </tr>\n",
       "    <tr>\n",
       "      <th>1</th>\n",
       "      <td>23</td>\n",
       "      <td>1618</td>\n",
       "      <td>2767</td>\n",
       "      <td>2956</td>\n",
       "    </tr>\n",
       "    <tr>\n",
       "      <th>2</th>\n",
       "      <td>35</td>\n",
       "      <td>2767</td>\n",
       "      <td>4373</td>\n",
       "      <td>7996</td>\n",
       "    </tr>\n",
       "    <tr>\n",
       "      <th>3</th>\n",
       "      <td>49</td>\n",
       "      <td>998</td>\n",
       "      <td>2095</td>\n",
       "      <td>8909</td>\n",
       "    </tr>\n",
       "    <tr>\n",
       "      <th>4</th>\n",
       "      <td>75</td>\n",
       "      <td>4708</td>\n",
       "      <td>976</td>\n",
       "      <td>6462</td>\n",
       "    </tr>\n",
       "  </tbody>\n",
       "</table>\n",
       "</div>"
      ],
      "text/plain": [
       "   UserId  Rec1  Rec2  Rec3\n",
       "0       7  6462  1274  1618\n",
       "1      23  1618  2767  2956\n",
       "2      35  2767  4373  7996\n",
       "3      49   998  2095  8909\n",
       "4      75  4708   976  6462"
      ]
     },
     "execution_count": 17,
     "metadata": {},
     "output_type": "execute_result"
    }
   ],
   "source": [
    "table = [(uid, *[iid for (iid, rating) in user_ratings]) for uid, user_ratings in top_n.items() ]\n",
    "reccs = pd.DataFrame(table)\n",
    "reccs.columns = [ 'UserId', 'Rec1', 'Rec2', 'Rec3']\n",
    "reccs = reccs.sort_values([\"UserId\"], ascending = True)\n",
    "reccs.head()\n"
   ]
  },
  {
   "cell_type": "markdown",
   "metadata": {},
   "source": [
    "## MATCH OUTPUT WITH BOOK NAMES"
   ]
  },
  {
   "cell_type": "code",
   "execution_count": 18,
   "metadata": {},
   "outputs": [
    {
     "name": "stdout",
     "output_type": "stream",
     "text": [
      "(6725, 4)\n"
     ]
    },
    {
     "data": {
      "text/html": [
       "<div>\n",
       "<style scoped>\n",
       "    .dataframe tbody tr th:only-of-type {\n",
       "        vertical-align: middle;\n",
       "    }\n",
       "\n",
       "    .dataframe tbody tr th {\n",
       "        vertical-align: top;\n",
       "    }\n",
       "\n",
       "    .dataframe thead th {\n",
       "        text-align: right;\n",
       "    }\n",
       "</style>\n",
       "<table border=\"1\" class=\"dataframe\">\n",
       "  <thead>\n",
       "    <tr style=\"text-align: right;\">\n",
       "      <th></th>\n",
       "      <th>UserId</th>\n",
       "      <th>Recommnded Book 1</th>\n",
       "      <th>Recommnded Book 2</th>\n",
       "      <th>Recommnded Book 3</th>\n",
       "    </tr>\n",
       "  </thead>\n",
       "  <tbody>\n",
       "    <tr>\n",
       "      <th>0</th>\n",
       "      <td>7</td>\n",
       "      <td>His Excellency: George Washington</td>\n",
       "      <td>Men Are from Mars, Women Are from Venus Book o...</td>\n",
       "      <td>The Curious Incident of the Dog in the Night-Time</td>\n",
       "    </tr>\n",
       "    <tr>\n",
       "      <th>3041</th>\n",
       "      <td>23</td>\n",
       "      <td>The Curious Incident of the Dog in the Night-Time</td>\n",
       "      <td>A People's History of the United States: 1492 ...</td>\n",
       "      <td>The Adventures of Huckleberry Finn</td>\n",
       "    </tr>\n",
       "    <tr>\n",
       "      <th>6158</th>\n",
       "      <td>35</td>\n",
       "      <td>A People's History of the United States: 1492 ...</td>\n",
       "      <td>First They Killed My Father: A Daughter of Cam...</td>\n",
       "      <td>Redwall</td>\n",
       "    </tr>\n",
       "    <tr>\n",
       "      <th>1547</th>\n",
       "      <td>49</td>\n",
       "      <td>The Millionaire Next Door: The Surprising Secr...</td>\n",
       "      <td>The Universe in a Nutshell</td>\n",
       "      <td>The War of the Worlds</td>\n",
       "    </tr>\n",
       "    <tr>\n",
       "      <th>4101</th>\n",
       "      <td>75</td>\n",
       "      <td>The Beautiful and Damned</td>\n",
       "      <td>Deception Point</td>\n",
       "      <td>His Excellency: George Washington</td>\n",
       "    </tr>\n",
       "  </tbody>\n",
       "</table>\n",
       "</div>"
      ],
      "text/plain": [
       "      UserId                                  Recommnded Book 1  \\\n",
       "0          7                  His Excellency: George Washington   \n",
       "3041      23  The Curious Incident of the Dog in the Night-Time   \n",
       "6158      35  A People's History of the United States: 1492 ...   \n",
       "1547      49  The Millionaire Next Door: The Surprising Secr...   \n",
       "4101      75                           The Beautiful and Damned   \n",
       "\n",
       "                                      Recommnded Book 2  \\\n",
       "0     Men Are from Mars, Women Are from Venus Book o...   \n",
       "3041  A People's History of the United States: 1492 ...   \n",
       "6158  First They Killed My Father: A Daughter of Cam...   \n",
       "1547                         The Universe in a Nutshell   \n",
       "4101                                    Deception Point   \n",
       "\n",
       "                                      Recommnded Book 3  \n",
       "0     The Curious Incident of the Dog in the Night-Time  \n",
       "3041                 The Adventures of Huckleberry Finn  \n",
       "6158                                            Redwall  \n",
       "1547                              The War of the Worlds  \n",
       "4101                  His Excellency: George Washington  "
      ]
     },
     "execution_count": 18,
     "metadata": {},
     "output_type": "execute_result"
    }
   ],
   "source": [
    "df1 = pd.merge(reccs, booksdf , left_on= 'Rec1', right_on= 'book_id')\n",
    "df1.drop('Rec1', axis=1, inplace= True)\n",
    "df1.drop('book_id', axis=1, inplace= True)\n",
    "df1.rename(columns = {'original_title':'Recommended Book 1'}, inplace = True)\n",
    "##################################################################\n",
    "df2 = pd.merge(df1, booksdf , left_on= 'Rec2', right_on= 'book_id')\n",
    "df2.drop('Rec2', axis=1, inplace= True)\n",
    "df2.drop('book_id', axis=1, inplace= True)\n",
    "df2.rename(columns = {'original_title':'Recommended Book 2'}, inplace = True)\n",
    "##################################################################\n",
    "finalrec = pd.merge(df2, booksdf , left_on= 'Rec3', right_on= 'book_id')\n",
    "finalrec.drop('Rec3', axis=1, inplace= True)\n",
    "finalrec.drop('book_id', axis=1, inplace= True)\n",
    "finalrec.rename(columns = {'original_title':'Recommended Book 3'}, inplace = True)\n",
    "print(finalrec.shape)\n",
    "finalrec = finalrec.sort_values(['UserId'], ascending = True)\n",
    "finalrec.to_csv('RECOMMENDATIONS_OUTPUT.csv', index= False)\n",
    "finalrec.head()"
   ]
  },
  {
   "cell_type": "code",
   "execution_count": null,
   "metadata": {},
   "outputs": [],
   "source": []
  }
 ],
 "metadata": {
  "colab": {
   "collapsed_sections": [],
   "name": "Movies Recommendation Engine - Coursera [Completed]",
   "provenance": [],
   "toc_visible": true
  },
  "kernelspec": {
   "display_name": "Python 3",
   "language": "python",
   "name": "python3"
  },
  "language_info": {
   "codemirror_mode": {
    "name": "ipython",
    "version": 3
   },
   "file_extension": ".py",
   "mimetype": "text/x-python",
   "name": "python",
   "nbconvert_exporter": "python",
   "pygments_lexer": "ipython3",
   "version": "3.8.3"
  }
 },
 "nbformat": 4,
 "nbformat_minor": 4
}
